{
 "cells": [
  {
   "cell_type": "code",
   "execution_count": 1,
   "metadata": {},
   "outputs": [],
   "source": [
    "import numpy as np\n",
    "from PIL import Image\n",
    "from matplotlib.pyplot import imshow\n",
    "\n",
    "%matplotlib inline\n",
    "import matplotlib.pyplot as plt\n",
    "from matplotlib import pylab as pt"
   ]
  },
  {
   "cell_type": "code",
   "execution_count": 2,
   "metadata": {},
   "outputs": [],
   "source": [
    "im = Image.open(\"Lab4-image.png\")"
   ]
  },
  {
   "cell_type": "code",
   "execution_count": 3,
   "metadata": {},
   "outputs": [],
   "source": [
    "im.show()\n",
    "im_array = np.asarray(im)"
   ]
  },
  {
   "cell_type": "code",
   "execution_count": 4,
   "metadata": {},
   "outputs": [
    {
     "name": "stdout",
     "output_type": "stream",
     "text": [
      "(331, 508, 3)\n"
     ]
    }
   ],
   "source": [
    "print(im_array.shape)"
   ]
  },
  {
   "cell_type": "code",
   "execution_count": 5,
   "metadata": {},
   "outputs": [],
   "source": [
    "def convert_to_grayscale(image):\n",
    "    #Converting the Image into the Grayscale image\n",
    "    rgb = np.asarray(image)\n",
    "    #Seperating the R,G,B arrays into separates r,g,b numpy array\n",
    "    r, g, b = rgb[:,:,0], rgb[:,:,1], rgb[:,:,2]\n",
    "\n",
    "    #finally adding all r,g,b to gray plus multiplying with some parameters\n",
    "    gray = 0.2989 * r + 0.5870 * g + 0.1140 * b\n",
    "\n",
    "    return gray"
   ]
  },
  {
   "cell_type": "code",
   "execution_count": 6,
   "metadata": {},
   "outputs": [],
   "source": [
    "# Function for binary threshold\n",
    "def binary_threshold(image,threshold):\n",
    "    #initializing a image size numpy array of zeros\n",
    "    binary = np.zeros(image.shape, dtype = 'int')\n",
    "    #iterating over every row of gray scale image\n",
    "    for i in range(binary.shape[0]):\n",
    "        #iterating over every element of the row\n",
    "        for j in range(binary.shape[1]):\n",
    "            #check the pixel particular\n",
    "            if image[i][j] < threshold:\n",
    "                binary[i][j] = 0\n",
    "            else:\n",
    "                binary[i][j] = 1\n",
    "    return binary\n",
    "\n"
   ]
  },
  {
   "cell_type": "code",
   "execution_count": 7,
   "metadata": {},
   "outputs": [],
   "source": [
    "#predifined threshold value\n",
    "threshold_value = 127\n",
    "gray = convert_to_grayscale(im)\n",
    "image = binary_threshold(gray,threshold_value)\n",
    "\n"
   ]
  },
  {
   "cell_type": "code",
   "execution_count": 8,
   "metadata": {},
   "outputs": [
    {
     "data": {
      "text/plain": [
       "<matplotlib.image.AxesImage at 0x115a2a278>"
      ]
     },
     "execution_count": 8,
     "metadata": {},
     "output_type": "execute_result"
    },
    {
     "data": {
      "image/png": "[encoded data removed]",
      "text/plain": [
       "<Figure size 432x288 with 1 Axes>"
      ]
     },
     "metadata": {
      "needs_background": "light"
     },
     "output_type": "display_data"
    }
   ],
   "source": [
    "pt.imshow(image, cmap = 'gray')"
   ]
  },
  {
   "cell_type": "code",
   "execution_count": 9,
   "metadata": {},
   "outputs": [
    {
     "name": "stdout",
     "output_type": "stream",
     "text": [
      "[[1 1 1 0 1 1 1 1 0 0 0 1 0 1 1 1 0 1 1 1]\n",
      " [0 1 0 0 1 1 1 1 1 0 0 0 0 1 0 1 1 1 1 0]\n",
      " [0 0 0 1 0 0 1 1 0 0 1 0 0 0 1 1 0 1 1 0]\n",
      " [0 0 0 0 0 1 0 0 0 1 0 1 1 0 1 0 0 1 0 1]\n",
      " [0 0 1 1 0 0 1 1 0 0 1 1 1 1 1 1 1 0 0 1]\n",
      " [1 1 1 0 0 0 0 1 0 1 1 1 0 0 0 1 0 0 1 1]\n",
      " [0 1 1 1 1 0 1 1 1 1 0 1 0 0 1 0 1 0 1 1]\n",
      " [0 0 0 1 1 1 1 1 1 0 0 0 1 1 1 0 1 0 1 1]\n",
      " [0 0 1 1 0 0 0 0 0 1 0 1 1 0 1 1 0 1 0 0]\n",
      " [1 0 0 0 1 0 0 1 0 0 0 1 0 0 0 1 1 0 0 1]]\n"
     ]
    }
   ],
   "source": [
    "image.shape\n",
    "image = np.random.randint(2, size=(10, 20))\n",
    "print(image)"
   ]
  },
  {
   "cell_type": "code",
   "execution_count": 10,
   "metadata": {},
   "outputs": [],
   "source": [
    "image_copy = np.copy(image)\n",
    "rows,columns = image_copy.shape"
   ]
  },
  {
   "cell_type": "code",
   "execution_count": 12,
   "metadata": {},
   "outputs": [
    {
     "name": "stdout",
     "output_type": "stream",
     "text": [
      "4\n"
     ]
    }
   ],
   "source": [
    "component_number = 0\n",
    "\n",
    "if (image[0][0] == 1):\n",
    "    component_number += 1\n",
    "    \n",
    "\n",
    "for i in range(rows):\n",
    "    for j in range(columns):\n",
    "        #checking if we have the first element\n",
    "        if image[i][j] == 0:\n",
    "            continue\n",
    "        else:\n",
    "            #checking if we are in the first row\n",
    "            if (i == 0):\n",
    "                if (j == 0):\n",
    "                    continue\n",
    "                else:\n",
    "                    if (image[i][j-1] == 0):\n",
    "                        component_number += 1\n",
    "                        image_copy[i][j] = component_number\n",
    "                    elif (image[i][j-1] == image[i][j]):\n",
    "                        image_copy[i][j] = image_copy[i][j-1]\n",
    "                        \n",
    "            else:\n",
    "                #for rows greater than 1\n",
    "                continue\n",
    "                \n",
    "print(component_number)\n",
    "        "
   ]
  },
  {
   "cell_type": "code",
   "execution_count": 13,
   "metadata": {},
   "outputs": [
    {
     "data": {
      "text/plain": [
       "array([[1, 1, 1, 0, 1, 1, 1, 1, 0, 0, 0, 2, 0, 3, 3, 3, 0, 4, 4, 4],\n",
       "       [0, 1, 0, 0, 1, 1, 1, 1, 1, 0, 0, 0, 0, 1, 0, 1, 1, 1, 1, 0],\n",
       "       [0, 0, 0, 1, 0, 0, 1, 1, 0, 0, 1, 0, 0, 0, 1, 1, 0, 1, 1, 0],\n",
       "       [0, 0, 0, 0, 0, 1, 0, 0, 0, 1, 0, 1, 1, 0, 1, 0, 0, 1, 0, 1],\n",
       "       [0, 0, 1, 1, 0, 0, 1, 1, 0, 0, 1, 1, 1, 1, 1, 1, 1, 0, 0, 1],\n",
       "       [1, 1, 1, 0, 0, 0, 0, 1, 0, 1, 1, 1, 0, 0, 0, 1, 0, 0, 1, 1],\n",
       "       [0, 1, 1, 1, 1, 0, 1, 1, 1, 1, 0, 1, 0, 0, 1, 0, 1, 0, 1, 1],\n",
       "       [0, 0, 0, 1, 1, 1, 1, 1, 1, 0, 0, 0, 1, 1, 1, 0, 1, 0, 1, 1],\n",
       "       [0, 0, 1, 1, 0, 0, 0, 0, 0, 1, 0, 1, 1, 0, 1, 1, 0, 1, 0, 0],\n",
       "       [1, 0, 0, 0, 1, 0, 0, 1, 0, 0, 0, 1, 0, 0, 0, 1, 1, 0, 0, 1]])"
      ]
     },
     "execution_count": 13,
     "metadata": {},
     "output_type": "execute_result"
    }
   ],
   "source": [
    "image_copy"
   ]
  },
  {
   "cell_type": "code",
   "execution_count": 110,
   "metadata": {},
   "outputs": [
    {
     "data": {
      "text/plain": [
       "array([[0, 1, 1, 0, 0, 0, 0, 1, 0, 1, 1, 1, 0, 0, 1, 1, 1, 0, 0, 1],\n",
       "       [0, 1, 0, 0, 0, 0, 1, 0, 0, 1, 1, 0, 0, 1, 1, 1, 0, 1, 1, 0],\n",
       "       [0, 1, 1, 0, 0, 0, 1, 0, 1, 1, 1, 1, 1, 0, 0, 0, 0, 1, 0, 0],\n",
       "       [0, 1, 1, 1, 0, 0, 1, 0, 1, 1, 0, 0, 1, 0, 0, 1, 1, 1, 0, 0],\n",
       "       [1, 1, 0, 1, 0, 0, 0, 1, 1, 0, 1, 0, 1, 1, 0, 1, 0, 0, 0, 0],\n",
       "       [0, 1, 1, 0, 0, 0, 0, 0, 0, 1, 1, 0, 1, 1, 1, 1, 0, 0, 0, 1],\n",
       "       [0, 0, 1, 0, 1, 1, 0, 0, 0, 0, 1, 0, 1, 1, 0, 0, 0, 0, 0, 1],\n",
       "       [0, 0, 0, 0, 0, 1, 0, 1, 1, 1, 0, 1, 0, 1, 0, 1, 0, 0, 1, 1],\n",
       "       [1, 1, 1, 1, 0, 1, 0, 1, 0, 0, 0, 1, 0, 1, 1, 1, 0, 0, 0, 0],\n",
       "       [1, 1, 0, 1, 0, 1, 0, 1, 1, 0, 0, 1, 1, 1, 0, 1, 1, 0, 1, 1]])"
      ]
     },
     "execution_count": 110,
     "metadata": {},
     "output_type": "execute_result"
    }
   ],
   "source": [
    "image"
   ]
  },
  {
   "cell_type": "code",
   "execution_count": null,
   "metadata": {},
   "outputs": [],
   "source": []
  }
 ],
 "metadata": {
  "kernelspec": {
   "display_name": "Python 3",
   "language": "python",
   "name": "python3"
  },
  "language_info": {
   "codemirror_mode": {
    "name": "ipython",
    "version": 3
   },
   "file_extension": ".py",
   "mimetype": "text/x-python",
   "name": "python",
   "nbconvert_exporter": "python",
   "pygments_lexer": "ipython3",
   "version": "3.7.3"
  }
 },
 "nbformat": 4,
 "nbformat_minor": 2
}
