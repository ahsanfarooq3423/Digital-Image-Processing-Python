{
 "cells": [
  {
   "cell_type": "code",
   "execution_count": 16,
   "metadata": {},
   "outputs": [],
   "source": [
    "import numpy as np\n",
    "from PIL import Image\n",
    "from matplotlib.pyplot import imshow\n",
    "\n",
    "%matplotlib inline\n",
    "import matplotlib.pyplot as plt\n",
    "from matplotlib import pylab as pt"
   ]
  },
  {
   "cell_type": "code",
   "execution_count": 17,
   "metadata": {},
   "outputs": [],
   "source": [
    "im = Image.open(\"Lab4-image.png\")"
   ]
  },
  {
   "cell_type": "code",
   "execution_count": 18,
   "metadata": {},
   "outputs": [],
   "source": [
    "im.show()\n",
    "im_array = np.asarray(im)"
   ]
  },
  {
   "cell_type": "code",
   "execution_count": 19,
   "metadata": {},
   "outputs": [
    {
     "name": "stdout",
     "output_type": "stream",
     "text": [
      "(331, 508, 3)\n"
     ]
    }
   ],
   "source": [
    "print(im_array.shape)"
   ]
  },
  {
   "cell_type": "code",
   "execution_count": 55,
   "metadata": {},
   "outputs": [],
   "source": [
    "#Function that convert rgb image to gray scale\n",
    "def convert_to_grayscale(image):\n",
    "    #Converting the Image into the Grayscale image\n",
    "    rgb = np.asarray(image)\n",
    "    #Seperating the R,G,B arrays into separates r,g,b numpy array\n",
    "    r, g, b = rgb[:,:,0], rgb[:,:,1], rgb[:,:,2]\n",
    "\n",
    "    #finally adding all r,g,b to gray plus multiplying with some parameters\n",
    "    gray = 0.2989 * r + 0.5870 * g + 0.1140 * b\n",
    "\n",
    "    return gray"
   ]
  },
  {
   "cell_type": "code",
   "execution_count": 56,
   "metadata": {},
   "outputs": [],
   "source": [
    "# Function for binary threshold\n",
    "def binary_threshold(image,threshold):\n",
    "    #initializing a image size numpy array of zeros\n",
    "    binary = np.zeros(image.shape, dtype = 'int')\n",
    "    #iterating over every row of gray scale image\n",
    "    for i in range(binary.shape[0]):\n",
    "        #iterating over every element of the row\n",
    "        for j in range(binary.shape[1]):\n",
    "            #check the pixel particular\n",
    "            if image[i][j] < threshold:\n",
    "                binary[i][j] = 0\n",
    "            else:\n",
    "                binary[i][j] = 1\n",
    "    return binary\n",
    "\n"
   ]
  },
  {
   "cell_type": "markdown",
   "metadata": {},
   "source": [
    "## Generating the Binary Image from GrayScale\n"
   ]
  },
  {
   "cell_type": "code",
   "execution_count": 57,
   "metadata": {},
   "outputs": [],
   "source": [
    "#predifined threshold value\n",
    "threshold_value = 127\n",
    "#first converting to grayscale\n",
    "gray = convert_to_grayscale(im)\n",
    "#converting into binary image\n",
    "image = binary_threshold(gray,threshold_value)\n",
    "\n"
   ]
  },
  {
   "cell_type": "code",
   "execution_count": 58,
   "metadata": {},
   "outputs": [
    {
     "data": {
      "text/plain": [
       "<matplotlib.image.AxesImage at 0x1241e1be0>"
      ]
     },
     "execution_count": 58,
     "metadata": {},
     "output_type": "execute_result"
    },
    {
     "data": {
      "image/png": "[encoded data removed]",
      "text/plain": [
       "<Figure size 432x288 with 1 Axes>"
      ]
     },
     "metadata": {
      "needs_background": "light"
     },
     "output_type": "display_data"
    }
   ],
   "source": [
    "pt.imshow(image, cmap = 'gray')"
   ]
  },
  {
   "cell_type": "code",
   "execution_count": 59,
   "metadata": {},
   "outputs": [
    {
     "data": {
      "text/plain": [
       "(331, 508)"
      ]
     },
     "execution_count": 59,
     "metadata": {},
     "output_type": "execute_result"
    }
   ],
   "source": [
    "image.shape\n"
   ]
  },
  {
   "cell_type": "code",
   "execution_count": 60,
   "metadata": {},
   "outputs": [],
   "source": [
    "image_copy = np.copy(image)\n",
    "rows,columns = image_copy.shape"
   ]
  },
  {
   "cell_type": "markdown",
   "metadata": {},
   "source": [
    "#  Connecting Labeling Algorithm\n"
   ]
  },
  {
   "cell_type": "code",
   "execution_count": 61,
   "metadata": {},
   "outputs": [
    {
     "data": {
      "image/png": "[encoded data removed]",
      "text/plain": [
       "<Figure size 432x288 with 1 Axes>"
      ]
     },
     "metadata": {
      "needs_background": "light"
     },
     "output_type": "display_data"
    }
   ],
   "source": [
    "#Generating the zeros array of the size of original image\n",
    "zeros = np.zeros(shape=(rows, columns)).tolist()\n",
    "threshold = 127\n",
    "#to keep track of the component Numbers\n",
    "componentNumber = dict()\n",
    "\n",
    "for row in range(0, rows):\n",
    "    for col in range(0, columns):\n",
    "        #Checking in the pixel value is zeros\n",
    "        if image_copy[row][col] == 0:\n",
    "            upper = 0\n",
    "            left = 0\n",
    "            if row == 0:\n",
    "                upper = 0\n",
    "            else:\n",
    "                upper = zeros[row - 1][col]\n",
    "            if col == 0:\n",
    "                left = 0\n",
    "            else:\n",
    "                left = zeros[row][col - 1]\n",
    "            if left == 0 and upper == 0:\n",
    "                threshold = threshold+1\n",
    "                zeros[row][col] = threshold\n",
    "            elif left > 0 and upper == 0:\n",
    "                zeros[row][col] = left\n",
    "            elif upper > 0  and left == 0:\n",
    "                zeros[row][col] = top\n",
    "            elif upper > 0 and left > 0 and left == upper:\n",
    "                zeros[row][col] = left\n",
    "            elif upper > 0 and left > 0 and not left == upper:\n",
    "                zeros[row][col] = int(min(left, upper))\n",
    "                componentNumber[int(min(upper, left))] = int(min(left, upper))\n",
    "\n",
    "#Generating array of pixels values from componentNumber Dictionary               \n",
    "values = componentNumber.keys()\n",
    "image = np.array(zeros)\n",
    "plt.imshow(image, cmap=\"nipy_spectral\")\n",
    "plt.show()"
   ]
  },
  {
   "cell_type": "code",
   "execution_count": null,
   "metadata": {},
   "outputs": [],
   "source": []
  }
 ],
 "metadata": {
  "kernelspec": {
   "display_name": "Python 3",
   "language": "python",
   "name": "python3"
  },
  "language_info": {
   "codemirror_mode": {
    "name": "ipython",
    "version": 3
   },
   "file_extension": ".py",
   "mimetype": "text/x-python",
   "name": "python",
   "nbconvert_exporter": "python",
   "pygments_lexer": "ipython3",
   "version": "3.7.3"
  }
 },
 "nbformat": 4,
 "nbformat_minor": 2
}
